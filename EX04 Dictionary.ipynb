{
 "cells": [
  {
   "cell_type": "code",
   "execution_count": 9,
   "metadata": {},
   "outputs": [],
   "source": [
    "yeongmin = {\"name\":\"영민\", 'age':23, 'number':'010-5474-4305'}"
   ]
  },
  {
   "cell_type": "code",
   "execution_count": 2,
   "metadata": {},
   "outputs": [
    {
     "name": "stdout",
     "output_type": "stream",
     "text": [
      "{'name': '영민', 'age': 20, 'number': '010-5474-4305'}\n"
     ]
    }
   ],
   "source": [
    "print(yeongmin)"
   ]
  },
  {
   "cell_type": "code",
   "execution_count": 5,
   "metadata": {},
   "outputs": [
    {
     "name": "stdout",
     "output_type": "stream",
     "text": [
      "{'노래제목': '너에게닿기를', '가수': '10cm', '날짜': '2025.03.04'}\n"
     ]
    }
   ],
   "source": [
    "dic_test = {'노래제목':'너에게닿기를'}\n",
    "dic_test['가수'] = '10cm'\n",
    "dic_test['날짜'] = '2025.03.04'\n",
    "print(dic_test)"
   ]
  },
  {
   "cell_type": "code",
   "execution_count": 10,
   "metadata": {},
   "outputs": [
    {
     "name": "stdout",
     "output_type": "stream",
     "text": [
      "23\n",
      "23\n"
     ]
    }
   ],
   "source": [
    "print(yeongmin['age'])\n",
    "print(yeongmin.get('age'))"
   ]
  },
  {
   "cell_type": "code",
   "execution_count": 13,
   "metadata": {},
   "outputs": [],
   "source": [
    "score_dic = {\n",
    "    '홍길동':{'수학':99, '영어':80, '국어':75},\n",
    "    '김미정':{'영어':67, '국어':87, '수학':55},\n",
    "    '정수진':{'수학':67, '국어':41, '영어':23}\n",
    "    }"
   ]
  },
  {
   "cell_type": "code",
   "execution_count": 19,
   "metadata": {},
   "outputs": [
    {
     "name": "stdout",
     "output_type": "stream",
     "text": [
      "{'수학': 99, '영어': 80, '국어': 75}\n",
      "{'영어': 67, '국어': 87, '수학': 55}\n",
      "{'수학': 67, '국어': 41, '영어': 23}\n",
      "{'국어': 203, '수학': 221, '영어': 170}\n"
     ]
    }
   ],
   "source": [
    "math_num = 0\n",
    "korean_num = 0\n",
    "eng_num = 0\n",
    "\n",
    "for values in score_dic.values():\n",
    "    print(values)\n",
    "    math_num += values['수학']\n",
    "    korean_num += values['국어']\n",
    "    eng_num += values['영어']\n",
    "\n",
    "sc_list = list(values.keys())\n",
    "\n",
    "sc_num = {'국어':korean_num, '수학':math_num, '영어':eng_num}\n",
    "print(sc_num)"
   ]
  }
 ],
 "metadata": {
  "kernelspec": {
   "display_name": "school_class",
   "language": "python",
   "name": "python3"
  },
  "language_info": {
   "codemirror_mode": {
    "name": "ipython",
    "version": 3
   },
   "file_extension": ".py",
   "mimetype": "text/x-python",
   "name": "python",
   "nbconvert_exporter": "python",
   "pygments_lexer": "ipython3",
   "version": "3.12.9"
  }
 },
 "nbformat": 4,
 "nbformat_minor": 2
}
